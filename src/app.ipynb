{
 "cells": [
  {
   "cell_type": "code",
   "execution_count": 1,
   "metadata": {},
   "outputs": [
    {
     "name": "stdout",
     "output_type": "stream",
     "text": [
      "[2023-09-01 15:16:35][Taipy][INFO] Loading configuration. Filename: 'main_config.toml'\n",
      "[2023-09-01 15:16:35][Taipy][INFO] Configuration 'main_config.toml' successfully loaded.\n",
      "[2023-09-01 15:16:35][Taipy][INFO] No scenario comparators defined for ScenarioConfig `SCENARIO_1`.\n",
      "[2023-09-01 15:16:35][Taipy][INFO] Development mode: Clean all entities of version af838827-5804-4855-aa4e-b59bbbc6a16b\n"
     ]
    }
   ],
   "source": [
    "from taipy import Core, Config\n",
    "from taipy import Gui\n",
    "import taipy as tp\n",
    "\n",
    "Config.load('main_config.toml')\n",
    "\n",
    "tp.Core().run()\n",
    "\n",
    "scenario_1 = tp.create_scenario(Config.scenarios['SCENARIO_1'])"
   ]
  },
  {
   "cell_type": "code",
   "execution_count": null,
   "metadata": {},
   "outputs": [],
   "source": [
    "#scenario_1.path_to_data.write(\"data/SMALL_amazon_customers_data.csv\")"
   ]
  },
  {
   "cell_type": "code",
   "execution_count": 3,
   "metadata": {},
   "outputs": [
    {
     "name": "stdout",
     "output_type": "stream",
     "text": [
      "__________________________________________________________\n",
      "1. TASK 1: DATA PREPROCESSING AND CUSTOMER SCORING ...\n",
      "Time of Execution: 716.1291 ms\n",
      "[2023-09-01 15:16:38][Taipy][INFO] job JOB_TASK_1_3be6ecaa-c6c5-4a32-8b71-2b312e39d50b is completed.\n",
      "__________________________________________________________\n",
      "2. TASK 2: FEATURE ENGINEERING AND SEGMENTATION ...\n",
      "Time of Execution: 77.5508 ms\n",
      "[2023-09-01 15:16:38][Taipy][INFO] job JOB_TASK_2_f211ac43-d295-4f0c-8fea-5dcb7af2d82d is completed.\n",
      "__________________________________________________________\n",
      "3. TASK 3: SEGMENT ANALYSIS ...\n",
      "Time of Execution: 64.9097 ms\n",
      "[2023-09-01 15:16:38][Taipy][INFO] job JOB_TASK_3_59dec17f-f7b2-401c-bbd8-ce9255ef7eaf is completed.\n",
      "__________________________________________________________\n",
      "4. TASK 4: ADDITIONAL ANALYSIS BASED ON SEGMENT ANALYSIS ...\n",
      "Time of Execution: 43.1409 ms\n",
      "[2023-09-01 15:16:38][Taipy][INFO] job JOB_TASK_4_f2e2e0fd-fa01-4671-ad94-7b98fbfc2f1d is completed.\n"
     ]
    },
    {
     "data": {
      "text/plain": [
       "[<taipy.core.job.job.Job at 0x15e37aa90>,\n",
       " <taipy.core.job.job.Job at 0x15fec0d90>,\n",
       " <taipy.core.job.job.Job at 0x15e74e310>,\n",
       " <taipy.core.job.job.Job at 0x15fec3410>]"
      ]
     },
     "execution_count": 3,
     "metadata": {},
     "output_type": "execute_result"
    }
   ],
   "source": [
    "#initial submit -- all tasks will be executed\n",
    "scenario_1.submit()"
   ]
  },
  {
   "cell_type": "code",
   "execution_count": 4,
   "metadata": {},
   "outputs": [
    {
     "name": "stdout",
     "output_type": "stream",
     "text": [
      "[2023-09-01 15:16:38][Taipy][INFO] job JOB_TASK_1_8e859fa9-2905-4c04-89f1-90ba16f5f961 is skipped.\n",
      "__________________________________________________________\n",
      "2. TASK 2: FEATURE ENGINEERING AND SEGMENTATION ...\n",
      "Time of Execution: 76.6720 ms\n",
      "[2023-09-01 15:16:38][Taipy][INFO] job JOB_TASK_2_d5e8c0ae-420b-45da-a1a3-435398b5fca6 is completed.\n",
      "__________________________________________________________\n",
      "3. TASK 3: SEGMENT ANALYSIS ...\n",
      "Time of Execution: 62.0962 ms\n",
      "[2023-09-01 15:16:38][Taipy][INFO] job JOB_TASK_3_c02d4577-4838-4e2f-a59a-36bc03486837 is completed.\n",
      "__________________________________________________________\n",
      "4. TASK 4: ADDITIONAL ANALYSIS BASED ON SEGMENT ANALYSIS ...\n",
      "Time of Execution: 38.8706 ms\n",
      "[2023-09-01 15:16:38][Taipy][INFO] job JOB_TASK_4_1af9a997-337e-40fd-920e-398a29ddd972 is completed.\n"
     ]
    },
    {
     "data": {
      "text/plain": [
       "[<taipy.core.job.job.Job at 0x169c33c10>,\n",
       " <taipy.core.job.job.Job at 0x15fed8e10>,\n",
       " <taipy.core.job.job.Job at 0x169c345d0>,\n",
       " <taipy.core.job.job.Job at 0x169c32790>]"
      ]
     },
     "execution_count": 4,
     "metadata": {},
     "output_type": "execute_result"
    }
   ],
   "source": [
    "# Changing the parameter of task 2 \n",
    "# -> Task 1 is skipped\n",
    "\n",
    "scenario_1.payment_threshold.write(1600)\n",
    "scenario_1.submit()"
   ]
  },
  {
   "cell_type": "code",
   "execution_count": 5,
   "metadata": {},
   "outputs": [
    {
     "name": "stdout",
     "output_type": "stream",
     "text": [
      "[2023-09-01 15:16:38][Taipy][INFO] job JOB_TASK_1_53b2acd2-6137-40b1-8ba3-7617a3d53ea9 is skipped.\n",
      "[2023-09-01 15:16:38][Taipy][INFO] job JOB_TASK_2_7c2dd699-ef8d-4ee7-8489-c356ca4d29f8 is skipped.\n",
      "__________________________________________________________\n",
      "3. TASK 3: SEGMENT ANALYSIS ...\n",
      "Time of Execution: 113.9085 ms\n",
      "[2023-09-01 15:16:39][Taipy][INFO] job JOB_TASK_3_3c8c6c03-e4d7-4070-8cc7-ad1b94c7f745 is completed.\n",
      "__________________________________________________________\n",
      "4. TASK 4: ADDITIONAL ANALYSIS BASED ON SEGMENT ANALYSIS ...\n",
      "Time of Execution: 38.6272 ms\n",
      "[2023-09-01 15:16:39][Taipy][INFO] job JOB_TASK_4_38d99369-61c1-465a-a89e-0ff534f7a42f is completed.\n"
     ]
    },
    {
     "data": {
      "text/plain": [
       "[<taipy.core.job.job.Job at 0x169c1ced0>,\n",
       " <taipy.core.job.job.Job at 0x15fed95d0>,\n",
       " <taipy.core.job.job.Job at 0x169c16690>,\n",
       " <taipy.core.job.job.Job at 0x15ff06810>]"
      ]
     },
     "execution_count": 5,
     "metadata": {},
     "output_type": "execute_result"
    }
   ],
   "source": [
    "# Changing the parameter of task 3\n",
    "# -> Task 1, 2 are skipped\n",
    "\n",
    "scenario_1.metric.write(\"median\")\n",
    "scenario_1.submit()"
   ]
  },
  {
   "cell_type": "code",
   "execution_count": 6,
   "metadata": {},
   "outputs": [
    {
     "name": "stdout",
     "output_type": "stream",
     "text": [
      "[2023-09-01 15:16:39][Taipy][INFO] job JOB_TASK_1_6252a133-8185-4c55-a0af-4139ce6dd021 is skipped.\n",
      "[2023-09-01 15:16:39][Taipy][INFO] job JOB_TASK_2_9abad66d-47d1-451d-bf25-e571ccab3763 is skipped.\n",
      "[2023-09-01 15:16:39][Taipy][INFO] job JOB_TASK_3_aee90572-adce-4353-8924-45bebcfd2019 is skipped.\n",
      "__________________________________________________________\n",
      "4. TASK 4: ADDITIONAL ANALYSIS BASED ON SEGMENT ANALYSIS ...\n",
      "Time of Execution: 41.6499 ms\n",
      "[2023-09-01 15:16:39][Taipy][INFO] job JOB_TASK_4_7f78087d-ea01-486a-a64f-5b823fdf7a35 is completed.\n"
     ]
    },
    {
     "data": {
      "text/plain": [
       "[<taipy.core.job.job.Job at 0x169c4a850>,\n",
       " <taipy.core.job.job.Job at 0x169c3c610>,\n",
       " <taipy.core.job.job.Job at 0x169c152d0>,\n",
       " <taipy.core.job.job.Job at 0x15ff15f90>]"
      ]
     },
     "execution_count": 6,
     "metadata": {},
     "output_type": "execute_result"
    }
   ],
   "source": [
    "# Changing the parameter of task 4\n",
    "# -> Task 1, 2, 3 are skipped\n",
    "\n",
    "scenario_1.summary_statistic_type.write(\"mean\")\n",
    "scenario_1.submit()"
   ]
  },
  {
   "cell_type": "code",
   "execution_count": 7,
   "metadata": {},
   "outputs": [
    {
     "name": "stdout",
     "output_type": "stream",
     "text": [
      "[2023-09-01 15:16:39][Taipy][INFO] Running in 'single_client' mode in notebook environment\n",
      "[2023-09-01 15:16:39][Taipy][INFO] 'use_reloader' parameter is not available in notebook environment\n",
      "[2023-09-01 15:16:39][Taipy][INFO]  * Server starting on http://127.0.0.1:5010\n"
     ]
    },
    {
     "name": "stderr",
     "output_type": "stream",
     "text": [
      "Invalid session WQzE_UjLFdtBqjjQAAAS (further occurrences of this error will be logged with level INFO)\n"
     ]
    }
   ],
   "source": [
    "from taipy import Gui\n",
    "\n",
    "page = \"\"\"\n",
    "# Dask/Taipy Application DEMO\n",
    "\n",
    "Hi\n",
    "\"\"\"\n",
    "Gui(page=page).run(port=5010, use_reloader=True) # use_reloader=True"
   ]
  },
  {
   "cell_type": "code",
   "execution_count": null,
   "metadata": {},
   "outputs": [],
   "source": []
  }
 ],
 "metadata": {
  "kernelspec": {
   "display_name": "tp-dask",
   "language": "python",
   "name": "python3"
  },
  "language_info": {
   "codemirror_mode": {
    "name": "ipython",
    "version": 3
   },
   "file_extension": ".py",
   "mimetype": "text/x-python",
   "name": "python",
   "nbconvert_exporter": "python",
   "pygments_lexer": "ipython3",
   "version": "3.11.4"
  },
  "orig_nbformat": 4
 },
 "nbformat": 4,
 "nbformat_minor": 2
}
